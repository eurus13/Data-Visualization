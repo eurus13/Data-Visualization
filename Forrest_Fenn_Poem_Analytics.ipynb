{
  "nbformat": 4,
  "nbformat_minor": 0,
  "metadata": {
    "colab": {
      "name": "Forrest Fenn Poem Analytics ",
      "provenance": [],
      "collapsed_sections": [],
      "include_colab_link": true
    },
    "kernelspec": {
      "name": "python3",
      "display_name": "Python 3"
    }
  },
  "cells": [
    {
      "cell_type": "markdown",
      "metadata": {
        "id": "view-in-github",
        "colab_type": "text"
      },
      "source": [
        "<a href=\"https://colab.research.google.com/github/eurus13/Data-Visualization/blob/master/Forrest_Fenn_Poem_Analytics.ipynb\" target=\"_parent\"><img src=\"https://colab.research.google.com/assets/colab-badge.svg\" alt=\"Open In Colab\"/></a>"
      ]
    },
    {
      "cell_type": "code",
      "metadata": {
        "id": "lxGrBmLNKrLF",
        "colab_type": "code",
        "colab": {}
      },
      "source": [
        "#At the request of a friends, I did a quick breakdown of a poem that if solved leads to a treasure in hidden in the Rocky Moutains"
      ],
      "execution_count": 0,
      "outputs": []
    },
    {
      "cell_type": "code",
      "metadata": {
        "id": "W5Y8bssQku6K",
        "colab_type": "code",
        "colab": {}
      },
      "source": [
        "from collections import Counter\n",
        "import matplotlib.pyplot as plt\n",
        "import pandas as pd\n",
        "import numpy as np\n",
        "import seaborn as sns\n",
        "import nltk\n",
        "%matplotlib inline\n",
        "sns.set()"
      ],
      "execution_count": 0,
      "outputs": []
    },
    {
      "cell_type": "code",
      "metadata": {
        "id": "8b-sc6kXKw3q",
        "colab_type": "code",
        "colab": {}
      },
      "source": [
        "poem = \"\"\"\n",
        "As I have gone alone in there\n",
        "And with my treasures bold,\n",
        "I can keep my secret where,\n",
        "And hint of riches new and old.\n",
        "Begin it where warm waters halt\n",
        "And take it in the canyon down,\n",
        "Not far, but too far to walk.\n",
        "Put in below the home of Brown.\n",
        "From there it's no place for the meek,\n",
        "The end is ever drawing nigh;\n",
        "There'll be no paddle up your creek,\n",
        "Just heavy loads and water high.\n",
        "If you've been wise and found the blaze,\n",
        "Look quickly down, your quest to cease,\n",
        "But tarry scant with marvel gaze,\n",
        "Just take the chest and go in peace.\n",
        "So why is it that I must go\n",
        "And leave my trove for all to seek?\n",
        "The answers I already know,\n",
        "I've done it tired, and now I'm weak.\n",
        "So hear me all and listen good,\n",
        "Your effort will be worth the cold.\n",
        "If you are brave and in the wood\n",
        "I give you title to the gold.\"\"\"\n",
        "\n",
        "stanza_one = \"\"\"As I have gone alone in there\n",
        "And with my treasures bold,\n",
        "I can keep my secret where,\n",
        "And hint of riches new and old.\"\"\""
      ],
      "execution_count": 0,
      "outputs": []
    },
    {
      "cell_type": "code",
      "metadata": {
        "id": "20LccSrGOkVF",
        "colab_type": "code",
        "outputId": "2773c0fa-ca9b-4cb3-fa66-381c45d19a2f",
        "colab": {
          "base_uri": "https://localhost:8080/",
          "height": 35
        }
      },
      "source": [
        "ana = \"\"\"As I have gone alone in there\n",
        "And with my treasures bold,\n",
        "I can keep my secret where,\n",
        "And hint of riches new and old.\"\"\"\n",
        "\n",
        "ana"
      ],
      "execution_count": 0,
      "outputs": [
        {
          "output_type": "execute_result",
          "data": {
            "text/plain": [
              "'As I have gone alone in there\\nAnd with my treasures bold,\\nI can keep my secret where,\\nAnd hint of riches new and old.'"
            ]
          },
          "metadata": {
            "tags": []
          },
          "execution_count": 4
        }
      ]
    },
    {
      "cell_type": "code",
      "metadata": {
        "id": "CCilktAgMJvs",
        "colab_type": "code",
        "colab": {}
      },
      "source": [
        "for char in '-.,\\n':\n",
        "  Text = poem.lower()\n",
        "\n",
        "word_list = Text.split()\n",
        "\n"
      ],
      "execution_count": 0,
      "outputs": []
    },
    {
      "cell_type": "code",
      "metadata": {
        "id": "uMnxwKFwNGG6",
        "colab_type": "code",
        "outputId": "c325d24a-fd0a-409e-b8f5-1a2f483200d7",
        "colab": {
          "base_uri": "https://localhost:8080/",
          "height": 54
        }
      },
      "source": [
        "print(word_list)"
      ],
      "execution_count": 0,
      "outputs": [
        {
          "output_type": "stream",
          "text": [
            "['as', 'i', 'have', 'gone', 'alone', 'in', 'there', 'and', 'with', 'my', 'treasures', 'bold,', 'i', 'can', 'keep', 'my', 'secret', 'where,', 'and', 'hint', 'of', 'riches', 'new', 'and', 'old.', 'begin', 'it', 'where', 'warm', 'waters', 'halt', 'and', 'take', 'it', 'in', 'the', 'canyon', 'down,', 'not', 'far,', 'but', 'too', 'far', 'to', 'walk.', 'put', 'in', 'below', 'the', 'home', 'of', 'brown.', 'from', 'there', \"it's\", 'no', 'place', 'for', 'the', 'meek,', 'the', 'end', 'is', 'ever', 'drawing', 'nigh;', \"there'll\", 'be', 'no', 'paddle', 'up', 'your', 'creek,', 'just', 'heavy', 'loads', 'and', 'water', 'high.', 'if', \"you've\", 'been', 'wise', 'and', 'found', 'the', 'blaze,', 'look', 'quickly', 'down,', 'your', 'quest', 'to', 'cease,', 'but', 'tarry', 'scant', 'with', 'marvel', 'gaze,', 'just', 'take', 'the', 'chest', 'and', 'go', 'in', 'peace.', 'so', 'why', 'is', 'it', 'that', 'i', 'must', 'go', 'and', 'leave', 'my', 'trove', 'for', 'all', 'to', 'seek?', 'the', 'answers', 'i', 'already', 'know,', \"i've\", 'done', 'it', 'tired,', 'and', 'now', \"i'm\", 'weak.', 'so', 'hear', 'me', 'all', 'and', 'listen', 'good,', 'your', 'effort', 'will', 'be', 'worth', 'the', 'cold.', 'if', 'you', 'are', 'brave', 'and', 'in', 'the', 'wood', 'i', 'give', 'you', 'title', 'to', 'the', 'gold.']\n"
          ],
          "name": "stdout"
        }
      ]
    },
    {
      "cell_type": "code",
      "metadata": {
        "id": "blpWvZOrNKrk",
        "colab_type": "code",
        "outputId": "9dbfd1d8-3ca0-4b68-b99e-32b74ca762b5",
        "colab": {
          "base_uri": "https://localhost:8080/",
          "height": 1000
        }
      },
      "source": [
        "freq_d = {}\n",
        "for word in word_list:\n",
        "  freq_d[word] = freq_d.get(word, 0) + 1\n",
        " \n",
        "freq_d"
      ],
      "execution_count": 0,
      "outputs": [
        {
          "output_type": "execute_result",
          "data": {
            "text/plain": [
              "{'all': 2,\n",
              " 'alone': 1,\n",
              " 'already': 1,\n",
              " 'and': 11,\n",
              " 'answers': 1,\n",
              " 'are': 1,\n",
              " 'as': 1,\n",
              " 'be': 2,\n",
              " 'been': 1,\n",
              " 'begin': 1,\n",
              " 'below': 1,\n",
              " 'blaze,': 1,\n",
              " 'bold,': 1,\n",
              " 'brave': 1,\n",
              " 'brown.': 1,\n",
              " 'but': 2,\n",
              " 'can': 1,\n",
              " 'canyon': 1,\n",
              " 'cease,': 1,\n",
              " 'chest': 1,\n",
              " 'cold.': 1,\n",
              " 'creek,': 1,\n",
              " 'done': 1,\n",
              " 'down,': 2,\n",
              " 'drawing': 1,\n",
              " 'effort': 1,\n",
              " 'end': 1,\n",
              " 'ever': 1,\n",
              " 'far': 1,\n",
              " 'far,': 1,\n",
              " 'for': 2,\n",
              " 'found': 1,\n",
              " 'from': 1,\n",
              " 'gaze,': 1,\n",
              " 'give': 1,\n",
              " 'go': 2,\n",
              " 'gold.': 1,\n",
              " 'gone': 1,\n",
              " 'good,': 1,\n",
              " 'halt': 1,\n",
              " 'have': 1,\n",
              " 'hear': 1,\n",
              " 'heavy': 1,\n",
              " 'high.': 1,\n",
              " 'hint': 1,\n",
              " 'home': 1,\n",
              " 'i': 5,\n",
              " \"i'm\": 1,\n",
              " \"i've\": 1,\n",
              " 'if': 2,\n",
              " 'in': 5,\n",
              " 'is': 2,\n",
              " 'it': 4,\n",
              " \"it's\": 1,\n",
              " 'just': 2,\n",
              " 'keep': 1,\n",
              " 'know,': 1,\n",
              " 'leave': 1,\n",
              " 'listen': 1,\n",
              " 'loads': 1,\n",
              " 'look': 1,\n",
              " 'marvel': 1,\n",
              " 'me': 1,\n",
              " 'meek,': 1,\n",
              " 'must': 1,\n",
              " 'my': 3,\n",
              " 'new': 1,\n",
              " 'nigh;': 1,\n",
              " 'no': 2,\n",
              " 'not': 1,\n",
              " 'now': 1,\n",
              " 'of': 2,\n",
              " 'old.': 1,\n",
              " 'paddle': 1,\n",
              " 'peace.': 1,\n",
              " 'place': 1,\n",
              " 'put': 1,\n",
              " 'quest': 1,\n",
              " 'quickly': 1,\n",
              " 'riches': 1,\n",
              " 'scant': 1,\n",
              " 'secret': 1,\n",
              " 'seek?': 1,\n",
              " 'so': 2,\n",
              " 'take': 2,\n",
              " 'tarry': 1,\n",
              " 'that': 1,\n",
              " 'the': 10,\n",
              " 'there': 2,\n",
              " \"there'll\": 1,\n",
              " 'tired,': 1,\n",
              " 'title': 1,\n",
              " 'to': 4,\n",
              " 'too': 1,\n",
              " 'treasures': 1,\n",
              " 'trove': 1,\n",
              " 'up': 1,\n",
              " 'walk.': 1,\n",
              " 'warm': 1,\n",
              " 'water': 1,\n",
              " 'waters': 1,\n",
              " 'weak.': 1,\n",
              " 'where': 1,\n",
              " 'where,': 1,\n",
              " 'why': 1,\n",
              " 'will': 1,\n",
              " 'wise': 1,\n",
              " 'with': 2,\n",
              " 'wood': 1,\n",
              " 'worth': 1,\n",
              " 'you': 2,\n",
              " \"you've\": 1,\n",
              " 'your': 3}"
            ]
          },
          "metadata": {
            "tags": []
          },
          "execution_count": 5
        }
      ]
    },
    {
      "cell_type": "code",
      "metadata": {
        "id": "mkCOpI7ONLeT",
        "colab_type": "code",
        "colab": {}
      },
      "source": [
        ""
      ],
      "execution_count": 0,
      "outputs": []
    },
    {
      "cell_type": "code",
      "metadata": {
        "id": "7ZmfN8mlNNo7",
        "colab_type": "code",
        "colab": {}
      },
      "source": [
        "word_freq = []"
      ],
      "execution_count": 0,
      "outputs": []
    },
    {
      "cell_type": "code",
      "metadata": {
        "id": "RRcqAANCOEpg",
        "colab_type": "code",
        "colab": {}
      },
      "source": [
        "for key, value in freq_d.items():\n",
        "   word_freq.append((key,value))"
      ],
      "execution_count": 0,
      "outputs": []
    },
    {
      "cell_type": "code",
      "metadata": {
        "id": "-5u9VEJZOIFr",
        "colab_type": "code",
        "outputId": "3ad750cb-d6ed-429b-e1a0-9f50f85cdcfe",
        "colab": {
          "base_uri": "https://localhost:8080/",
          "height": 54
        }
      },
      "source": [
        "word_freq.sort(reverse=True)\n",
        "print(word_freq)"
      ],
      "execution_count": 0,
      "outputs": [
        {
          "output_type": "stream",
          "text": [
            "[('your', 3), (\"you've\", 1), ('you', 2), ('worth', 1), ('wood', 1), ('with', 2), ('wise', 1), ('will', 1), ('why', 1), ('where,', 1), ('where', 1), ('weak.', 1), ('waters', 1), ('water', 1), ('warm', 1), ('walk.', 1), ('up', 1), ('trove', 1), ('treasures', 1), ('too', 1), ('to', 4), ('title', 1), ('tired,', 1), (\"there'll\", 1), ('there', 2), ('the', 10), ('that', 1), ('tarry', 1), ('take', 2), ('so', 2), ('seek?', 1), ('secret', 1), ('scant', 1), ('riches', 1), ('quickly', 1), ('quest', 1), ('put', 1), ('place', 1), ('peace.', 1), ('paddle', 1), ('old.', 1), ('of', 2), ('now', 1), ('not', 1), ('no', 2), ('nigh;', 1), ('new', 1), ('my', 3), ('must', 1), ('meek,', 1), ('me', 1), ('marvel', 1), ('look', 1), ('loads', 1), ('listen', 1), ('leave', 1), ('know,', 1), ('keep', 1), ('just', 2), (\"it's\", 1), ('it', 4), ('is', 2), ('in', 5), ('if', 2), (\"i've\", 1), (\"i'm\", 1), ('i', 5), ('home', 1), ('hint', 1), ('high.', 1), ('heavy', 1), ('hear', 1), ('have', 1), ('halt', 1), ('good,', 1), ('gone', 1), ('gold.', 1), ('go', 2), ('give', 1), ('gaze,', 1), ('from', 1), ('found', 1), ('for', 2), ('far,', 1), ('far', 1), ('ever', 1), ('end', 1), ('effort', 1), ('drawing', 1), ('down,', 2), ('done', 1), ('creek,', 1), ('cold.', 1), ('chest', 1), ('cease,', 1), ('canyon', 1), ('can', 1), ('but', 2), ('brown.', 1), ('brave', 1), ('bold,', 1), ('blaze,', 1), ('below', 1), ('begin', 1), ('been', 1), ('be', 2), ('as', 1), ('are', 1), ('answers', 1), ('and', 11), ('already', 1), ('alone', 1), ('all', 2)]\n"
          ],
          "name": "stdout"
        }
      ]
    },
    {
      "cell_type": "code",
      "metadata": {
        "id": "wGbUrNzSOWrx",
        "colab_type": "code",
        "colab": {}
      },
      "source": [
        "poem3 = Counter(poem.lower())\n",
        "del poem3['\\n']\n",
        "del poem3[' ']\n"
      ],
      "execution_count": 0,
      "outputs": []
    },
    {
      "cell_type": "code",
      "metadata": {
        "id": "uERNV5ldScr-",
        "colab_type": "code",
        "colab": {}
      },
      "source": [
        ""
      ],
      "execution_count": 0,
      "outputs": []
    },
    {
      "cell_type": "code",
      "metadata": {
        "id": "cp1OPRthSyg6",
        "colab_type": "code",
        "outputId": "e37a1a88-ed1e-47c9-afd1-b2c906a93bf1",
        "colab": {
          "base_uri": "https://localhost:8080/",
          "height": 527
        }
      },
      "source": [
        "poem3"
      ],
      "execution_count": 0,
      "outputs": [
        {
          "output_type": "execute_result",
          "data": {
            "text/plain": [
              "Counter({\"'\": 5,\n",
              "         ',': 13,\n",
              "         '.': 8,\n",
              "         ';': 1,\n",
              "         '?': 1,\n",
              "         'a': 49,\n",
              "         'b': 11,\n",
              "         'c': 12,\n",
              "         'd': 28,\n",
              "         'e': 82,\n",
              "         'f': 12,\n",
              "         'g': 11,\n",
              "         'h': 31,\n",
              "         'i': 36,\n",
              "         'j': 2,\n",
              "         'k': 11,\n",
              "         'l': 27,\n",
              "         'm': 11,\n",
              "         'n': 41,\n",
              "         'o': 50,\n",
              "         'p': 6,\n",
              "         'q': 2,\n",
              "         'r': 36,\n",
              "         's': 24,\n",
              "         't': 53,\n",
              "         'u': 17,\n",
              "         'v': 10,\n",
              "         'w': 23,\n",
              "         'y': 15,\n",
              "         'z': 2})"
            ]
          },
          "metadata": {
            "tags": []
          },
          "execution_count": 10
        }
      ]
    },
    {
      "cell_type": "code",
      "metadata": {
        "id": "kVF9I93PV57W",
        "colab_type": "code",
        "outputId": "66f0aaf8-fe5e-4430-fab6-18d787e1fdf1",
        "colab": {
          "base_uri": "https://localhost:8080/",
          "height": 80
        }
      },
      "source": [
        "df = pd.DataFrame(poem3,index=[0])\n",
        "df_abc_sort = df.copy()\n",
        "df_abc_sort.sort_index(axis=1,inplace=True)\n",
        "df_abc_sort"
      ],
      "execution_count": 0,
      "outputs": [
        {
          "output_type": "execute_result",
          "data": {
            "text/html": [
              "<div>\n",
              "<style scoped>\n",
              "    .dataframe tbody tr th:only-of-type {\n",
              "        vertical-align: middle;\n",
              "    }\n",
              "\n",
              "    .dataframe tbody tr th {\n",
              "        vertical-align: top;\n",
              "    }\n",
              "\n",
              "    .dataframe thead th {\n",
              "        text-align: right;\n",
              "    }\n",
              "</style>\n",
              "<table border=\"1\" class=\"dataframe\">\n",
              "  <thead>\n",
              "    <tr style=\"text-align: right;\">\n",
              "      <th></th>\n",
              "      <th>'</th>\n",
              "      <th>,</th>\n",
              "      <th>.</th>\n",
              "      <th>;</th>\n",
              "      <th>?</th>\n",
              "      <th>a</th>\n",
              "      <th>b</th>\n",
              "      <th>c</th>\n",
              "      <th>d</th>\n",
              "      <th>e</th>\n",
              "      <th>f</th>\n",
              "      <th>g</th>\n",
              "      <th>h</th>\n",
              "      <th>i</th>\n",
              "      <th>j</th>\n",
              "      <th>k</th>\n",
              "      <th>l</th>\n",
              "      <th>m</th>\n",
              "      <th>n</th>\n",
              "      <th>o</th>\n",
              "      <th>p</th>\n",
              "      <th>q</th>\n",
              "      <th>r</th>\n",
              "      <th>s</th>\n",
              "      <th>t</th>\n",
              "      <th>u</th>\n",
              "      <th>v</th>\n",
              "      <th>w</th>\n",
              "      <th>y</th>\n",
              "      <th>z</th>\n",
              "    </tr>\n",
              "  </thead>\n",
              "  <tbody>\n",
              "    <tr>\n",
              "      <th>0</th>\n",
              "      <td>5</td>\n",
              "      <td>13</td>\n",
              "      <td>8</td>\n",
              "      <td>1</td>\n",
              "      <td>1</td>\n",
              "      <td>49</td>\n",
              "      <td>11</td>\n",
              "      <td>12</td>\n",
              "      <td>28</td>\n",
              "      <td>82</td>\n",
              "      <td>12</td>\n",
              "      <td>11</td>\n",
              "      <td>31</td>\n",
              "      <td>36</td>\n",
              "      <td>2</td>\n",
              "      <td>11</td>\n",
              "      <td>27</td>\n",
              "      <td>11</td>\n",
              "      <td>41</td>\n",
              "      <td>50</td>\n",
              "      <td>6</td>\n",
              "      <td>2</td>\n",
              "      <td>36</td>\n",
              "      <td>24</td>\n",
              "      <td>53</td>\n",
              "      <td>17</td>\n",
              "      <td>10</td>\n",
              "      <td>23</td>\n",
              "      <td>15</td>\n",
              "      <td>2</td>\n",
              "    </tr>\n",
              "  </tbody>\n",
              "</table>\n",
              "</div>"
            ],
            "text/plain": [
              "   '   ,  .  ;  ?   a   b   c   d   e  ...  p  q   r   s   t   u   v   w   y  z\n",
              "0  5  13  8  1  1  49  11  12  28  82  ...  6  2  36  24  53  17  10  23  15  2\n",
              "\n",
              "[1 rows x 30 columns]"
            ]
          },
          "metadata": {
            "tags": []
          },
          "execution_count": 11
        }
      ]
    },
    {
      "cell_type": "code",
      "metadata": {
        "id": "SyBldszcfWcc",
        "colab_type": "code",
        "colab": {}
      },
      "source": [
        "df_abc_sort = df_abc_sort.transpose()\n",
        "df_abc_sort.sort_index(inplace=True)"
      ],
      "execution_count": 0,
      "outputs": []
    },
    {
      "cell_type": "code",
      "metadata": {
        "id": "jNL8hJOofjYS",
        "colab_type": "code",
        "outputId": "6512d4e9-3dbc-4ebd-c897-841c4ffd2f7d",
        "colab": {
          "base_uri": "https://localhost:8080/",
          "height": 600
        }
      },
      "source": [
        "labels = list(df_abc_sort.index)\n",
        "df_abc_sort.plot.bar(figsize=(15,10));\n",
        "plt.xticks(np.arange(30), labels, rotation=0)\n",
        "plt.show();"
      ],
      "execution_count": 0,
      "outputs": [
        {
          "output_type": "display_data",
          "data": {
            "image/png": "[encoded data removed]",
            "text/plain": [
              "<Figure size 1080x720 with 1 Axes>"
            ]
          },
          "metadata": {
            "tags": []
          }
        }
      ]
    },
    {
      "cell_type": "code",
      "metadata": {
        "id": "4mqNdLGgf5GC",
        "colab_type": "code",
        "colab": {}
      },
      "source": [
        "df_word_freq = pd.DataFrame(word_freq)"
      ],
      "execution_count": 0,
      "outputs": []
    }
  ]
}