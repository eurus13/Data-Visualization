{
  "nbformat": 4,
  "nbformat_minor": 0,
  "metadata": {
    "colab": {
      "name": "1 in a While",
      "provenance": [],
      "collapsed_sections": [],
      "include_colab_link": true
    },
    "kernelspec": {
      "name": "python3",
      "display_name": "Python 3"
    }
  },
  "cells": [
    {
      "cell_type": "markdown",
      "metadata": {
        "id": "view-in-github",
        "colab_type": "text"
      },
      "source": [
        "<a href=\"https://colab.research.google.com/github/eurus13/Data-Visualization/blob/master/1_in_a_While.ipynb\" target=\"_parent\"><img src=\"https://colab.research.google.com/assets/colab-badge.svg\" alt=\"Open In Colab\"/></a>"
      ]
    },
    {
      "cell_type": "code",
      "metadata": {
        "id": "AkdPFnF2aN4l",
        "colab_type": "code",
        "colab": {}
      },
      "source": [
        "import random "
      ],
      "execution_count": 0,
      "outputs": []
    },
    {
      "cell_type": "code",
      "metadata": {
        "id": "DRbpsWAQLCr_",
        "colab_type": "code",
        "colab": {}
      },
      "source": [
        "#just seeing out of 100,000 possibilities how many iterations it takes to have a random number match another random number on the first draw "
      ],
      "execution_count": 0,
      "outputs": []
    },
    {
      "cell_type": "code",
      "metadata": {
        "id": "jJt6kF0waPcy",
        "colab_type": "code",
        "colab": {}
      },
      "source": [
        "first_random_choice = random.randrange(100000)\n",
        "\n"
      ],
      "execution_count": 0,
      "outputs": []
    },
    {
      "cell_type": "code",
      "metadata": {
        "id": "2Q5MOWoDaXF8",
        "colab_type": "code",
        "outputId": "71caeb8a-429f-4712-e957-d2f4d24385d1",
        "colab": {
          "base_uri": "https://localhost:8080/",
          "height": 52
        }
      },
      "source": [
        "second_random_choice = random.randrange(100000)\n",
        "count = 0\n",
        "\n",
        "if second_random_choice != first_random_choice:\n",
        "  while second_random_choice != first_random_choice:\n",
        "    second_random_choice = random.randrange(100000)\n",
        "    count = count + 1\n",
        "    \n",
        "    if second_random_choice == first_random_choice:\n",
        "        print('Match!')\n",
        "        print(count,'sequences')\n",
        "  \n",
        "else:\n",
        "  print('Match!')\n",
        "  print(count, 'sequences')\n",
        "  \n",
        "  "
      ],
      "execution_count": 0,
      "outputs": [
        {
          "output_type": "stream",
          "text": [
            "Match!\n",
            "151648 sequences\n"
          ],
          "name": "stdout"
        }
      ]
    },
    {
      "cell_type": "code",
      "metadata": {
        "id": "8JAOS5CtbB4f",
        "colab_type": "code",
        "colab": {}
      },
      "source": [
        ""
      ],
      "execution_count": 0,
      "outputs": []
    },
    {
      "cell_type": "code",
      "metadata": {
        "id": "6nEGdD17bEto",
        "colab_type": "code",
        "colab": {}
      },
      "source": [
        ""
      ],
      "execution_count": 0,
      "outputs": []
    }
  ]
}